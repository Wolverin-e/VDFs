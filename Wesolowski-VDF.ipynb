{
 "cells": [
  {
   "cell_type": "markdown",
   "id": "35b8bf11-33f5-4980-a94f-d90b6ad93923",
   "metadata": {},
   "source": [
    "# Setup & Imports"
   ]
  },
  {
   "cell_type": "code",
   "execution_count": 1,
   "id": "ec036902-1d89-4eff-bfe3-4cbe5a15305f",
   "metadata": {},
   "outputs": [],
   "source": [
    "import logging\n",
    "logging.basicConfig(format=\"%(levelname)s → %(message)s\")"
   ]
  },
  {
   "cell_type": "code",
   "execution_count": 2,
   "id": "b273b768-ea7c-489b-8249-c2cbdbf42af7",
   "metadata": {},
   "outputs": [],
   "source": [
    "import random as rand\n",
    "import math"
   ]
  },
  {
   "cell_type": "markdown",
   "id": "9fac6aa1",
   "metadata": {},
   "source": [
    "# Functions"
   ]
  },
  {
   "cell_type": "code",
   "execution_count": 3,
   "id": "0fd874d4-c453-4d0f-b5f4-e7f883aca167",
   "metadata": {},
   "outputs": [],
   "source": [
    "gcd = lambda a,b: b if(a==0) else gcd(b%a, a)"
   ]
  },
  {
   "cell_type": "code",
   "execution_count": 4,
   "id": "2a645315-32bf-465a-83d5-564d4da7c972",
   "metadata": {},
   "outputs": [],
   "source": [
    "def square_and_multiply(num, power, n):\n",
    "    if(power == 0):\n",
    "        return 1\n",
    "\n",
    "    log = logging.getLogger(square_and_multiply.__name__)\n",
    "    log.setLevel(logging.WARNING)\n",
    "    \n",
    "    bin_digits = math.floor(math.log2(power))+1\n",
    "    log.info(f\"Binary Digits: {bin_digits}\")\n",
    "\n",
    "    mul = 1\n",
    "    N = num\n",
    "    mask = 1\n",
    "    for i in range(bin_digits):\n",
    "        if((mask&power) != 0):\n",
    "            mul=(mul*N)%n\n",
    "\n",
    "        # log.info(f\"Mask: {mask}, N: {N}, mul: {mul}\")\n",
    "        N = (N**2)%n\n",
    "        mask = mask<<1\n",
    "    \n",
    "    return mul\n",
    "# square_and_multiply(2, 4, 100000)"
   ]
  },
  {
   "cell_type": "code",
   "execution_count": 5,
   "id": "ede031f0-08cf-47bd-8fa5-1413cb2ebad9",
   "metadata": {},
   "outputs": [],
   "source": [
    "def miller_rabin(num):\n",
    "    assert(num != 1)\n",
    "    if(num in [2, 3]): return 0\n",
    "    if(num%2 == 0): return 1\n",
    "\n",
    "    log = logging.getLogger(miller_rabin.__name__)\n",
    "    log.setLevel(logging.WARNING)\n",
    "\n",
    "    k = 0\n",
    "    u = num-1\n",
    "    while(u&1 != 1):\n",
    "        u >>= 1\n",
    "        k += 1\n",
    "\n",
    "    u = int(u)\n",
    "    log.info(f\"u: {u}, k: {k}\")\n",
    "\n",
    "    a = rand.randrange(2, num-1)\n",
    "    b = square_and_multiply(a, u, num)\n",
    "\n",
    "    log.info(f\"a: {a}, a^u mod n = {b}\")\n",
    "\n",
    "    if(b in [1, num-1]): return 0\n",
    "\n",
    "    for i in range(k-1):\n",
    "\n",
    "        b = square_and_multiply(b, 2, num)\n",
    "\n",
    "        if(b == num-1): return 0\n",
    "        if(b == 1): return 1\n",
    "\n",
    "    return 1\n",
    "\n",
    "\n",
    "def is_prime_mr(num, k):\n",
    "    for i in range(k):\n",
    "        if(miller_rabin(num)):\n",
    "            return False\n",
    "    return True\n",
    "\n",
    "# is_prime_mr(1000000007, 10000)"
   ]
  },
  {
   "cell_type": "code",
   "execution_count": 6,
   "id": "0eb0a21f-d91b-4c7c-afbd-37b3c18ba4c6",
   "metadata": {
    "tags": []
   },
   "outputs": [],
   "source": [
    "def gen_prime(n_bits):\n",
    "    \n",
    "    log = logging.getLogger(gen_prime.__name__)\n",
    "    log.setLevel(logging.WARNING)\n",
    "\n",
    "    while True:\n",
    "        num = (1<<(n_bits-1)) | 1\n",
    "        num = num | rand.getrandbits(n_bits-2)\n",
    "\n",
    "        assert(n_bits == math.floor(math.log2(num))+1)\n",
    "\n",
    "        log.info(f\"Candidate: {num}\")\n",
    "\n",
    "        if(is_prime_mr(num, 50)):\n",
    "            log.info(f\"Found: {num}\")\n",
    "            return num\n",
    "\n",
    "# gen_prime(200)"
   ]
  },
  {
   "cell_type": "markdown",
   "id": "4bc8056c-ee56-4816-8150-0bcd15e3f2b0",
   "metadata": {},
   "source": [
    "# Setup"
   ]
  },
  {
   "cell_type": "code",
   "execution_count": 7,
   "id": "6b421939-afba-4a72-ab94-2fb2e04882cd",
   "metadata": {},
   "outputs": [],
   "source": [
    "security_parameter = 32"
   ]
  },
  {
   "cell_type": "code",
   "execution_count": 8,
   "id": "7390fd3b-7be7-4f8f-a51a-74c4f24eac19",
   "metadata": {},
   "outputs": [],
   "source": [
    "def Setup(l, T):\n",
    "    \n",
    "    log = logging.getLogger(Setup.__name__)\n",
    "    log.setLevel(logging.INFO)\n",
    "    \n",
    "    # Generate the group parameter\n",
    "    p = gen_prime(2*security_parameter)\n",
    "    q = gen_prime(2*security_parameter)\n",
    "    \n",
    "    n = p*q\n",
    "    \n",
    "    log.info(f\"Setup Generated a group with: \\n p: {p} \\n q: {q} \\n n: {n}\")\n",
    "    \n",
    "    return (n, T, l)\n",
    "\n",
    "# setup(30, 256)"
   ]
  },
  {
   "cell_type": "markdown",
   "id": "209018d6-a719-4547-9604-306e23410154",
   "metadata": {},
   "source": [
    "# Eval"
   ]
  },
  {
   "cell_type": "code",
   "execution_count": 9,
   "id": "e341ccc1-c888-4af5-9149-453fe6015d2a",
   "metadata": {},
   "outputs": [],
   "source": [
    "# Verifier sends a random L\n",
    "L = gen_prime(security_parameter)\n",
    "\n",
    "def Eval(pp, x):\n",
    "    \n",
    "    log = logging.getLogger(Eval.__name__)\n",
    "    log.setLevel(logging.INFO)\n",
    "\n",
    "    n, T, l = pp\n",
    "    \n",
    "    two_raised_to_T = 1<<T\n",
    "    \n",
    "    # Compute y = x^2^T\n",
    "    y = square_and_multiply(x, two_raised_to_T, n)\n",
    "    log.info(f\"Evaluator computed y: {y}\")\n",
    "    \n",
    "    log.info(f\"Verifier Sent L: {L}\")\n",
    "    \n",
    "    # Naively compute the quotient & The proof\n",
    "    b = two_raised_to_T//L # <- Naively implemented\n",
    "    pi = square_and_multiply(x, b, n)\n",
    "    \n",
    "    log.info(f\"Prover computed pi: {pi}\")\n",
    "    \n",
    "    return (y, pi)"
   ]
  },
  {
   "cell_type": "markdown",
   "id": "f707a502-5ced-4f2b-b831-d1765524daf7",
   "metadata": {},
   "source": [
    "# Verify"
   ]
  },
  {
   "cell_type": "code",
   "execution_count": 10,
   "id": "8687a4fc-1d64-4e5d-a2ca-1e9f559edc22",
   "metadata": {},
   "outputs": [],
   "source": [
    "def Verify(pp, x, y, pi):\n",
    "    \n",
    "    log = logging.getLogger(Verify.__name__)\n",
    "    log.setLevel(logging.INFO)\n",
    "    \n",
    "    n, T, l = pp\n",
    "    \n",
    "    # Compute r = 2^T mod n\n",
    "    r = square_and_multiply(2, T, L)\n",
    "    \n",
    "    log.info(f\"Verifier computed r: {r}\")\n",
    "    \n",
    "    # Compute pi^L * x^r\n",
    "    z = square_and_multiply(pi, L, n)\n",
    "    log.info(f\"pi^L: {z}\")\n",
    "    z = (z*square_and_multiply(x, r, n)) % n\n",
    "    log.info(f\"Verifier computed pi^L * x^r : {z}\")\n",
    "    \n",
    "    return z == y"
   ]
  },
  {
   "cell_type": "markdown",
   "id": "5fdb011a-5044-4173-ad85-86b02b52c345",
   "metadata": {},
   "source": [
    "# Test"
   ]
  },
  {
   "cell_type": "code",
   "execution_count": 24,
   "id": "90a4ef35-0233-466a-b2d1-d0e4e6ac9984",
   "metadata": {},
   "outputs": [
    {
     "name": "stderr",
     "output_type": "stream",
     "text": [
      "INFO → Setup Generated a group with: \n",
      " p: 10507806104026340093 \n",
      " q: 10757293600091565049 \n",
      " n: 113035555353845630294649975727906209557\n",
      "INFO → Evaluator computed y: 24614558627845395267412264473974105114\n",
      "INFO → Verifier Sent L: 2220704987\n",
      "INFO → Prover computed pi: 89003931966429500331299559133528580568\n"
     ]
    },
    {
     "name": "stdout",
     "output_type": "stream",
     "text": [
      "CPU times: user 1min 15s, sys: 1.49 s, total: 1min 16s\n",
      "Wall time: 1min 17s\n"
     ]
    }
   ],
   "source": [
    "x = gen_prime(52)\n",
    "pp = Setup(l=security_parameter, T=1<<20)\n",
    "%time y, pi = Eval(pp, x)"
   ]
  },
  {
   "cell_type": "code",
   "execution_count": 25,
   "id": "28e4362b-5df3-4728-900c-dfbd86d32837",
   "metadata": {},
   "outputs": [
    {
     "name": "stderr",
     "output_type": "stream",
     "text": [
      "INFO → Verifier computed r: 1663314019\n",
      "INFO → pi^L: 17488066454161422674793517885751548438\n",
      "INFO → Verifier computed pi^L * x^r : 24614558627845395267412264473974105114\n"
     ]
    },
    {
     "name": "stdout",
     "output_type": "stream",
     "text": [
      "CPU times: user 2.41 ms, sys: 1.74 ms, total: 4.15 ms\n",
      "Wall time: 2.75 ms\n"
     ]
    },
    {
     "data": {
      "text/plain": [
       "True"
      ]
     },
     "execution_count": 25,
     "metadata": {},
     "output_type": "execute_result"
    }
   ],
   "source": [
    "%time Verify(pp, x, y, pi)"
   ]
  },
  {
   "cell_type": "code",
   "execution_count": 13,
   "id": "98cdaddf-6e09-4ce2-9df3-aa599a1db479",
   "metadata": {},
   "outputs": [
    {
     "name": "stderr",
     "output_type": "stream",
     "text": [
      "INFO → Verifier computed r: 1088887513\n",
      "INFO → pi^L: 16103303962012523264098061832089612216\n",
      "INFO → Verifier computed pi^L * x^r : 104000144136516657666420338286666877965\n"
     ]
    },
    {
     "data": {
      "text/plain": [
       "False"
      ]
     },
     "execution_count": 13,
     "metadata": {},
     "output_type": "execute_result"
    }
   ],
   "source": [
    "Verify(pp, x, y, pi-1)"
   ]
  }
 ],
 "metadata": {
  "kernelspec": {
   "display_name": "Python 3",
   "language": "python",
   "name": "python3"
  },
  "language_info": {
   "codemirror_mode": {
    "name": "ipython",
    "version": 3
   },
   "file_extension": ".py",
   "mimetype": "text/x-python",
   "name": "python",
   "nbconvert_exporter": "python",
   "pygments_lexer": "ipython3",
   "version": "3.9.4"
  }
 },
 "nbformat": 4,
 "nbformat_minor": 5
}
